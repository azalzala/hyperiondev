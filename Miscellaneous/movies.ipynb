{
 "cells": [
  {
   "cell_type": "code",
   "execution_count": 1,
   "metadata": {},
   "outputs": [
    {
     "name": "stdout",
     "output_type": "stream",
     "text": [
      "Read permission granted for /Users/ayazalzala/Downloads/cost_revenue_clean.csv\n",
      "Write permission granted for /Users/ayazalzala/Downloads/cost_revenue_clean.csv\n",
      "Execute permission granted for /Users/ayazalzala/Downloads/cost_revenue_clean.csv\n"
     ]
    }
   ],
   "source": [
    "import os\n",
    "\n",
    "# Replace 'your_file_path' with the actual path to your file\n",
    "file_path = '/Users/ayazalzala/Downloads/cost_revenue_clean.csv'\n",
    "\n",
    "# Check if the file has read permission\n",
    "if os.access(file_path, os.R_OK):\n",
    "    print(f\"Read permission granted for {file_path}\")\n",
    "else:\n",
    "    print(f\"Read permission denied for {file_path}\")\n",
    "\n",
    "# Check if the file has write permission\n",
    "if os.access(file_path, os.W_OK):\n",
    "    print(f\"Write permission granted for {file_path}\")\n",
    "else:\n",
    "    print(f\"Write permission denied for {file_path}\")\n",
    "\n",
    "# Check if the file has execute permission\n",
    "if os.access(file_path, os.X_OK):\n",
    "    print(f\"Execute permission granted for {file_path}\")\n",
    "else:\n",
    "    print(f\"Execute permission denied for {file_path}\")"
   ]
  },
  {
   "cell_type": "code",
   "execution_count": 2,
   "metadata": {},
   "outputs": [
    {
     "ename": "NameError",
     "evalue": "name 'df' is not defined",
     "output_type": "error",
     "traceback": [
      "\u001b[0;31m---------------------------------------------------------------------------\u001b[0m",
      "\u001b[0;31mNameError\u001b[0m                                 Traceback (most recent call last)",
      "Cell \u001b[0;32mIn[2], line 1\u001b[0m\n\u001b[0;32m----> 1\u001b[0m unavailable \u001b[38;5;241m=\u001b[39m \u001b[43mdf\u001b[49m[df[\u001b[38;5;124m'\u001b[39m\u001b[38;5;124mWorldwide Gross ($)\u001b[39m\u001b[38;5;124m'\u001b[39m] \u001b[38;5;241m==\u001b[39m \u001b[38;5;124m'\u001b[39m\u001b[38;5;124m$0\u001b[39m\u001b[38;5;124m'\u001b[39m]\n",
      "\u001b[0;31mNameError\u001b[0m: name 'df' is not defined"
     ]
    }
   ],
   "source": [
    "unavailable = df[df['Worldwide Gross ($)'] == '$0']\n"
   ]
  }
 ],
 "metadata": {
  "kernelspec": {
   "display_name": "hyperiondev",
   "language": "python",
   "name": "hyperiondev"
  },
  "language_info": {
   "codemirror_mode": {
    "name": "ipython",
    "version": 3
   },
   "file_extension": ".py",
   "mimetype": "text/x-python",
   "name": "python",
   "nbconvert_exporter": "python",
   "pygments_lexer": "ipython3",
   "version": "3.11.7"
  }
 },
 "nbformat": 4,
 "nbformat_minor": 2
}
