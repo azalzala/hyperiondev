{
 "cells": [
  {
   "cell_type": "code",
   "execution_count": 1,
   "metadata": {},
   "outputs": [],
   "source": [
    "import pandas as pd\n",
    "import seaborn as sns"
   ]
  },
  {
   "cell_type": "code",
   "execution_count": 2,
   "metadata": {},
   "outputs": [
    {
     "name": "stdout",
     "output_type": "stream",
     "text": [
      "Index(['sepal_length', 'sepal_width', 'petal_length', 'petal_width',\n",
      "       'species'],\n",
      "      dtype='object')\n"
     ]
    }
   ],
   "source": [
    "df = sns.load_dataset('iris')\n",
    "print(df.columns)"
   ]
  },
  {
   "cell_type": "code",
   "execution_count": 4,
   "metadata": {},
   "outputs": [
    {
     "name": "stdout",
     "output_type": "stream",
     "text": [
      "     sepal_length  petal_length    species\n",
      "0             5.1           1.4     setosa\n",
      "1             4.9           1.4     setosa\n",
      "2             4.7           1.3     setosa\n",
      "3             4.6           1.5     setosa\n",
      "4             5.0           1.4     setosa\n",
      "..            ...           ...        ...\n",
      "145           6.7           5.2  virginica\n",
      "146           6.3           5.0  virginica\n",
      "147           6.5           5.2  virginica\n",
      "148           6.2           5.4  virginica\n",
      "149           5.9           5.1  virginica\n",
      "\n",
      "[150 rows x 3 columns]\n"
     ]
    }
   ],
   "source": [
    "multi = df[['sepal_length', 'petal_length', 'species']]\n",
    "print(multi)"
   ]
  },
  {
   "cell_type": "code",
   "execution_count": 6,
   "metadata": {},
   "outputs": [
    {
     "name": "stdout",
     "output_type": "stream",
     "text": [
      "        sepal_length  petal_length species\n",
      "count     150.000000    150.000000     150\n",
      "unique           NaN           NaN       3\n",
      "top              NaN           NaN  setosa\n",
      "freq             NaN           NaN      50\n",
      "mean        5.843333      3.758000     NaN\n",
      "std         0.828066      1.765298     NaN\n",
      "min         4.300000      1.000000     NaN\n",
      "25%         5.100000      1.600000     NaN\n",
      "50%         5.800000      4.350000     NaN\n",
      "75%         6.400000      5.100000     NaN\n",
      "max         7.900000      6.900000     NaN\n"
     ]
    }
   ],
   "source": [
    "print(multi.describe(include='all'))"
   ]
  },
  {
   "cell_type": "code",
   "execution_count": 8,
   "metadata": {},
   "outputs": [
    {
     "name": "stdout",
     "output_type": "stream",
     "text": [
      "     sepal_length  petal_length     species\n",
      "0             5.1           1.4      setosa\n",
      "1             4.9           1.4      setosa\n",
      "2             4.7           1.3      setosa\n",
      "3             4.6           1.5      setosa\n",
      "4             5.0           1.4      setosa\n",
      "..            ...           ...         ...\n",
      "98            5.1           3.0  versicolor\n",
      "99            5.7           4.1  versicolor\n",
      "106           4.9           4.5   virginica\n",
      "113           5.7           5.0   virginica\n",
      "121           5.6           4.9   virginica\n",
      "\n",
      "[73 rows x 3 columns]\n"
     ]
    }
   ],
   "source": [
    "below_median = multi[multi['sepal_length'] < 5.8]\n",
    "print(below_median)\n"
   ]
  },
  {
   "cell_type": "code",
   "execution_count": 15,
   "metadata": {},
   "outputs": [
    {
     "name": "stdout",
     "output_type": "stream",
     "text": [
      "sepal_length       4.6\n",
      "petal_length       1.5\n",
      "species         setosa\n",
      "Name: 3, dtype: object\n"
     ]
    }
   ],
   "source": [
    "print(multi.iloc[3])"
   ]
  },
  {
   "cell_type": "code",
   "execution_count": 23,
   "metadata": {},
   "outputs": [
    {
     "name": "stdout",
     "output_type": "stream",
     "text": [
      "            count   mean       std  min    25%  50%  75%  max\n",
      "species                                                      \n",
      "setosa       50.0  5.006  0.352490  4.3  4.800  5.0  5.2  5.8\n",
      "versicolor   50.0  5.936  0.516171  4.9  5.600  5.9  6.3  7.0\n",
      "virginica    50.0  6.588  0.635880  4.9  6.225  6.5  6.9  7.9\n"
     ]
    }
   ],
   "source": [
    "setosa = multi.groupby('species')['sepal_length'].describe()\n",
    "print(setosa)"
   ]
  },
  {
   "cell_type": "code",
   "execution_count": 24,
   "metadata": {},
   "outputs": [
    {
     "name": "stdout",
     "output_type": "stream",
     "text": [
      "       species  sepal_width\n",
      "1       setosa          3.0\n",
      "2       setosa          3.2\n",
      "3       setosa          3.1\n",
      "4       setosa          3.6\n",
      "5       setosa          3.9\n",
      "..         ...          ...\n",
      "145  virginica          3.0\n",
      "146  virginica          2.5\n",
      "147  virginica          3.0\n",
      "148  virginica          3.4\n",
      "149  virginica          3.0\n",
      "\n",
      "[149 rows x 2 columns]\n"
     ]
    }
   ],
   "source": [
    "subset = df.iloc[1:, [4,1]]\n",
    "print(subset)"
   ]
  },
  {
   "cell_type": "code",
   "execution_count": 26,
   "metadata": {},
   "outputs": [
    {
     "name": "stdout",
     "output_type": "stream",
     "text": [
      "<class 'pandas.core.frame.DataFrame'>\n",
      "Index: 150 entries, 13 to 131\n",
      "Data columns (total 5 columns):\n",
      " #   Column        Non-Null Count  Dtype  \n",
      "---  ------        --------------  -----  \n",
      " 0   sepal_length  150 non-null    float64\n",
      " 1   sepal_width   150 non-null    float64\n",
      " 2   petal_length  150 non-null    float64\n",
      " 3   petal_width   150 non-null    float64\n",
      " 4   species       150 non-null    object \n",
      "dtypes: float64(4), object(1)\n",
      "memory usage: 7.0+ KB\n",
      "None\n"
     ]
    }
   ],
   "source": [
    "sort_df = df.sort_values(by='sepal_length').info()\n",
    "print(sort_df)"
   ]
  },
  {
   "cell_type": "code",
   "execution_count": 42,
   "metadata": {},
   "outputs": [
    {
     "name": "stdout",
     "output_type": "stream",
     "text": [
      "6.59\n"
     ]
    }
   ],
   "source": [
    "print(round(df[df.species == 'virginica'].loc[100:150,'sepal_length'].mean(), 2))"
   ]
  }
 ],
 "metadata": {
  "kernelspec": {
   "display_name": "Python 3",
   "language": "python",
   "name": "python3"
  },
  "language_info": {
   "codemirror_mode": {
    "name": "ipython",
    "version": 3
   },
   "file_extension": ".py",
   "mimetype": "text/x-python",
   "name": "python",
   "nbconvert_exporter": "python",
   "pygments_lexer": "ipython3",
   "version": "3.9.6"
  }
 },
 "nbformat": 4,
 "nbformat_minor": 2
}
